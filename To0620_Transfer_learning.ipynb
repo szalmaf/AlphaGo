{
  "nbformat": 4,
  "nbformat_minor": 0,
  "metadata": {
    "colab": {
      "name": "To0620_Transfer_learning.ipynb",
      "provenance": [],
      "collapsed_sections": [],
      "authorship_tag": "ABX9TyNUE7MCwGU0XESkO/ncVSj+",
      "include_colab_link": true
    },
    "kernelspec": {
      "name": "python3",
      "display_name": "Python 3"
    }
  },
  "cells": [
    {
      "cell_type": "markdown",
      "metadata": {
        "id": "view-in-github",
        "colab_type": "text"
      },
      "source": [
        "<a href=\"https://colab.research.google.com/github/szalmaf/AlphaGo/blob/master/To0620_Transfer_learning.ipynb\" target=\"_parent\"><img src=\"https://colab.research.google.com/assets/colab-badge.svg\" alt=\"Open In Colab\"/></a>"
      ]
    },
    {
      "cell_type": "markdown",
      "metadata": {
        "id": "mp2Xy3uiIIh7"
      },
      "source": [
        "# Training Deep Neural Networks\n",
        "Transfer learning with  PyTorch [Lightning](https://www.pytorchlightning.ai)"
      ]
    },
    {
      "cell_type": "code",
      "metadata": {
        "id": "imQWlA2zD9dK"
      },
      "source": [
        "%%capture\n",
        "!pip install pytorch-lightning\n",
        "!pip install pytorch-lightning-bolts==0.2.5rc1"
      ],
      "execution_count": 1,
      "outputs": []
    },
    {
      "cell_type": "markdown",
      "metadata": {
        "id": "JgIo96RKFEJA"
      },
      "source": [
        "## Case 1: Supervised transfer learning"
      ]
    },
    {
      "cell_type": "code",
      "metadata": {
        "id": "EMA1LhhzENk4"
      },
      "source": [
        "from torchvision import models\n",
        "import torch\n",
        "\n",
        "# Residual deep neural network\n",
        "resnet50 = models.resnet50(pretrained=True)\n",
        "resnet50.fc = torch.nn.Linear(resnet50.fc.in_features, 10) # Swap out resnet's fc layer for a linear layer w/ 10 features"
      ],
      "execution_count": 2,
      "outputs": []
    },
    {
      "cell_type": "markdown",
      "metadata": {
        "id": "-zA50SwqF44W"
      },
      "source": [
        "### Deep learning standardized **image data sets**:\n",
        "\n",
        "* [**MNIST**](http://yann.lecun.com/exdb/mnist/) - 10 digits: 1, 2, ..., 10\n",
        "* [**CIFAR10**](https://www.cs.toronto.edu/~kriz/cifar.html) - 10 classes of 6,000 32x32 color images in each class  \n",
        "* [**ImageNet**](http://www.image-net.org) - 1000 classes, 1000 images in each class"
      ]
    },
    {
      "cell_type": "code",
      "metadata": {
        "colab": {
          "base_uri": "https://localhost:8080/"
        },
        "id": "4yWsyzphFcKf",
        "outputId": "30f3438a-9bf4-4903-c80a-a078b0e984ba"
      },
      "source": [
        "from torchvision.datasets import CIFAR10\n",
        "from torchvision import transforms\n",
        "\n",
        "# Normalize rgb channels separately\n",
        "normalize = transforms.Normalize(mean=[x/255. for x in [125.3, 123., 113.9]],\n",
        "                                 std=[x/255. for x in [63., 62.1, 66.7]])\n",
        "cf10_transforms = transforms.Compose([\n",
        "                                      transforms.ToTensor(),\n",
        "                                      normalize\n",
        "])\n",
        "cifar_10 = CIFAR10('.', train=True, download=True, transform=cf10_transforms)"
      ],
      "execution_count": 3,
      "outputs": [
        {
          "output_type": "stream",
          "text": [
            "Files already downloaded and verified\n"
          ],
          "name": "stdout"
        }
      ]
    },
    {
      "cell_type": "code",
      "metadata": {
        "colab": {
          "base_uri": "https://localhost:8080/",
          "height": 338
        },
        "id": "9O2CF4WvQpqe",
        "outputId": "623c8feb-7d57-4f55-b59c-fe71741b12d9"
      },
      "source": [
        "from matplotlib import pyplot as plt\n",
        "\n",
        "image, label = next(iter(cifar_10))\n",
        "\n",
        "print(\"Label: label\")\n",
        "\n",
        "img = image.numpy().transpose(1,2,0)\n",
        "plt.imshow(img)"
      ],
      "execution_count": 4,
      "outputs": [
        {
          "output_type": "stream",
          "text": [
            "Clipping input data to the valid range for imshow with RGB data ([0..1] for floats or [0..255] for integers).\n"
          ],
          "name": "stderr"
        },
        {
          "output_type": "stream",
          "text": [
            "Label: label\n"
          ],
          "name": "stdout"
        },
        {
          "output_type": "execute_result",
          "data": {
            "text/plain": [
              "<matplotlib.image.AxesImage at 0x7f622793c240>"
            ]
          },
          "metadata": {
            "tags": []
          },
          "execution_count": 4
        },
        {
          "output_type": "display_data",
          "data": {
            "image/png": "[encoded data removed]",
            "text/plain": [
              "<Figure size 432x288 with 1 Axes>"
            ]
          },
          "metadata": {
            "tags": [],
            "needs_background": "light"
          }
        }
      ]
    },
    {
      "cell_type": "code",
      "metadata": {
        "colab": {
          "base_uri": "https://localhost:8080/",
          "height": 352
        },
        "id": "UAstlPC3T5Ct",
        "outputId": "ef119486-da67-4206-8633-ee2f1362bf5b"
      },
      "source": [
        "plt.hist(img.flatten())"
      ],
      "execution_count": 5,
      "outputs": [
        {
          "output_type": "execute_result",
          "data": {
            "text/plain": [
              "(array([ 29., 257., 622., 637., 540., 519., 189., 130., 101.,  48.]),\n",
              " array([-1.9888889 , -1.5806602 , -1.1724316 , -0.7642029 , -0.35597426,\n",
              "         0.05225438,  0.460483  ,  0.86871165,  1.2769403 ,  1.685169  ,\n",
              "         2.0933976 ], dtype=float32),\n",
              " <a list of 10 Patch objects>)"
            ]
          },
          "metadata": {
            "tags": []
          },
          "execution_count": 5
        },
        {
          "output_type": "display_data",
          "data": {
            "image/png": "[encoded data removed]",
            "text/plain": [
              "<Figure size 432x288 with 1 Axes>"
            ]
          },
          "metadata": {
            "tags": [],
            "needs_background": "light"
          }
        }
      ]
    },
    {
      "cell_type": "code",
      "metadata": {
        "colab": {
          "base_uri": "https://localhost:8080/"
        },
        "id": "XpgEnmJaYVAE",
        "outputId": "1a37f6df-5991-4210-b01e-d98a2913516e"
      },
      "source": [
        "from torch.utils.data import DataLoader\n",
        "\n",
        "train_loader = DataLoader(cifar_10, batch_size=32, shuffle=True)\n",
        "\n",
        "for batch in train_loader:\n",
        "  x, y = batch\n",
        "  print(x.shape, y.shape)\n",
        "  break"
      ],
      "execution_count": 6,
      "outputs": [
        {
          "output_type": "stream",
          "text": [
            "torch.Size([32, 3, 32, 32]) torch.Size([32])\n"
          ],
          "name": "stdout"
        }
      ]
    },
    {
      "cell_type": "code",
      "metadata": {
        "colab": {
          "base_uri": "https://localhost:8080/"
        },
        "id": "1eYMEwK4aNrz",
        "outputId": "dc2d053e-85d3-410e-cc34-03a11dae8567"
      },
      "source": [
        "x, y = next(iter(train_loader))\n",
        "\n",
        "preds = resnet50(x)\n",
        "print(preds.shape)\n",
        "preds[:5]"
      ],
      "execution_count": 7,
      "outputs": [
        {
          "output_type": "stream",
          "text": [
            "torch.Size([32, 10])\n"
          ],
          "name": "stdout"
        },
        {
          "output_type": "execute_result",
          "data": {
            "text/plain": [
              "tensor([[ 0.4935, -0.0445, -0.4511,  0.0305, -0.0061,  0.0959,  0.3940,  0.2479,\n",
              "          0.1378,  0.0821],\n",
              "        [-0.0496, -0.6209,  0.1683, -0.1420, -0.5210, -0.2254, -0.0028,  0.0254,\n",
              "          0.3616,  0.4889],\n",
              "        [-0.3720,  0.0431, -0.3786,  0.3742, -0.4795,  0.3551,  0.8952, -0.6006,\n",
              "          0.2348,  0.4721],\n",
              "        [ 0.3538, -0.0858, -0.7956,  0.3363, -0.8372,  0.2047,  0.8912,  0.1782,\n",
              "         -0.2451,  0.1603],\n",
              "        [ 0.4868,  0.3121,  0.0199,  0.0418,  0.0809, -0.2781,  0.5078, -0.4317,\n",
              "          0.1894, -0.3169]], grad_fn=<SliceBackward>)"
            ]
          },
          "metadata": {
            "tags": []
          },
          "execution_count": 7
        }
      ]
    },
    {
      "cell_type": "code",
      "metadata": {
        "id": "dC4PuWAbbu8R"
      },
      "source": [
        "from torch.nn.functional import softmax\n",
        "\n",
        "preds = softmax(preds, dim=-1)"
      ],
      "execution_count": 8,
      "outputs": []
    },
    {
      "cell_type": "code",
      "metadata": {
        "colab": {
          "base_uri": "https://localhost:8080/"
        },
        "id": "1oOzndywehp4",
        "outputId": "be710791-fd64-407a-9969-0cfe4692155a"
      },
      "source": [
        "preds[:5]"
      ],
      "execution_count": 9,
      "outputs": [
        {
          "output_type": "execute_result",
          "data": {
            "text/plain": [
              "tensor([[0.1443, 0.0842, 0.0561, 0.0908, 0.0875, 0.0969, 0.1306, 0.1129, 0.1011,\n",
              "         0.0956],\n",
              "        [0.0950, 0.0536, 0.1181, 0.0866, 0.0593, 0.0797, 0.0995, 0.1024, 0.1433,\n",
              "         0.1627],\n",
              "        [0.0585, 0.0886, 0.0581, 0.1234, 0.0525, 0.1211, 0.2078, 0.0466, 0.1073,\n",
              "         0.1361],\n",
              "        [0.1245, 0.0802, 0.0394, 0.1223, 0.0378, 0.1072, 0.2131, 0.1044, 0.0684,\n",
              "         0.1026],\n",
              "        [0.1460, 0.1226, 0.0915, 0.0935, 0.0973, 0.0679, 0.1491, 0.0583, 0.1084,\n",
              "         0.0654]], grad_fn=<SliceBackward>)"
            ]
          },
          "metadata": {
            "tags": []
          },
          "execution_count": 9
        }
      ]
    },
    {
      "cell_type": "code",
      "metadata": {
        "colab": {
          "base_uri": "https://localhost:8080/"
        },
        "id": "zXKMgK0ueq8g",
        "outputId": "615eed0c-c54e-4780-95f5-1fce7db8cf01"
      },
      "source": [
        "pred_labels = torch.argmax(preds[:10], dim=-1)\n",
        "pred_labels"
      ],
      "execution_count": 10,
      "outputs": [
        {
          "output_type": "execute_result",
          "data": {
            "text/plain": [
              "tensor([0, 9, 6, 6, 6, 1, 9, 6, 9, 6])"
            ]
          },
          "metadata": {
            "tags": []
          },
          "execution_count": 10
        }
      ]
    },
    {
      "cell_type": "code",
      "metadata": {
        "colab": {
          "base_uri": "https://localhost:8080/"
        },
        "id": "JAqnRD4vfq6V",
        "outputId": "073929f9-84ea-4562-e776-ef4793563703"
      },
      "source": [
        "y[:10]"
      ],
      "execution_count": 11,
      "outputs": [
        {
          "output_type": "execute_result",
          "data": {
            "text/plain": [
              "tensor([8, 6, 9, 0, 1, 8, 6, 0, 5, 4])"
            ]
          },
          "metadata": {
            "tags": []
          },
          "execution_count": 11
        }
      ]
    },
    {
      "cell_type": "code",
      "metadata": {
        "id": "CzBqpJNIftWe"
      },
      "source": [
        "backbone = models.resnet50(pretrained=True)"
      ],
      "execution_count": 12,
      "outputs": []
    },
    {
      "cell_type": "code",
      "metadata": {
        "id": "wBuHr0HdhGbn"
      },
      "source": [
        "fc = torch.nn.Linear(backbone.fc.out_features, 10)"
      ],
      "execution_count": 13,
      "outputs": []
    },
    {
      "cell_type": "code",
      "metadata": {
        "id": "kOnOjDt2iMiP"
      },
      "source": [
        "from pl_bolts.datamodules import CIFAR10DataModule\n",
        "\n",
        "dm = CIFAR10DataModule('.')"
      ],
      "execution_count": 14,
      "outputs": []
    },
    {
      "cell_type": "markdown",
      "metadata": {
        "id": "xSMxNhUZvWm2"
      },
      "source": [
        "### Supervised transfer learning with PyTorch"
      ]
    },
    {
      "cell_type": "code",
      "metadata": {
        "id": "l3tUPAqcjP50"
      },
      "source": [
        "from torch.nn.functional import cross_entropy\n",
        "from torch.optim import Adam\n",
        "\n",
        "optimizer =  Adam(fc.parameters(), lr=1e-4)\n",
        "for epoch in range(10):\n",
        "  for batch in dm.train_dataloader() : # Mix Bolts and PyTorch\n",
        "    x, y = batch\n",
        "\n",
        "    ## Forward ##\n",
        "    with torch.no_grad(): \n",
        "      # Freeze backbone\n",
        "      # (b, 3, 32, 32) -> (b, 1000)\n",
        "      features = backbone(x)\n",
        "    # (b, 1000) -> (b, 10)\n",
        "    # Train fc fully connected layer only \n",
        "    preds = fc(features)\n",
        "    loss = cross_entropy(preds, y)\n",
        "\n",
        "    ## Backward ##\n",
        "    loss.backward()\n",
        "    optimizer.step()\n",
        "    optimizer.zero_grad()\n",
        "    print(loss.item())"
      ],
      "execution_count": null,
      "outputs": []
    },
    {
      "cell_type": "code",
      "metadata": {
        "id": "YDIil0s5NjYc"
      },
      "source": [
        ""
      ],
      "execution_count": null,
      "outputs": []
    }
  ]
}